{
 "cells": [
  {
   "cell_type": "code",
   "execution_count": 1,
   "id": "30101404",
   "metadata": {
    "execution": {
     "iopub.execute_input": "2025-03-20T05:40:13.875858Z",
     "iopub.status.busy": "2025-03-20T05:40:13.875654Z",
     "iopub.status.idle": "2025-03-20T05:40:13.883725Z",
     "shell.execute_reply": "2025-03-20T05:40:13.882591Z"
    },
    "papermill": {
     "duration": 0.020979,
     "end_time": "2025-03-20T05:40:13.886356",
     "exception": false,
     "start_time": "2025-03-20T05:40:13.865377",
     "status": "completed"
    },
    "tags": []
   },
   "outputs": [],
   "source": [
    "import argparse\n",
    "import datetime\n",
    "import gc\n",
    "import os\n",
    "import pickle\n",
    "import random\n",
    "import time\n",
    "import json"
   ]
  },
  {
   "cell_type": "code",
   "execution_count": 2,
   "id": "35fd76a6",
   "metadata": {
    "execution": {
     "iopub.execute_input": "2025-03-20T05:40:13.899995Z",
     "iopub.status.busy": "2025-03-20T05:40:13.899531Z",
     "iopub.status.idle": "2025-03-20T05:40:15.771463Z",
     "shell.execute_reply": "2025-03-20T05:40:15.770054Z"
    },
    "papermill": {
     "duration": 1.882118,
     "end_time": "2025-03-20T05:40:15.774828",
     "exception": false,
     "start_time": "2025-03-20T05:40:13.892710",
     "status": "completed"
    },
    "tags": []
   },
   "outputs": [],
   "source": [
    "import numpy as np\n",
    "import pandas as pd\n",
    "import torch\n",
    "import torch.optim as optim\n",
    "from torch.autograd import Variable\n",
    "from torch.optim import lr_scheduler"
   ]
  },
  {
   "cell_type": "code",
   "execution_count": null,
   "id": "778c3f3a",
   "metadata": {
    "execution": {
     "iopub.execute_input": "2025-03-20T05:40:15.792354Z",
     "iopub.status.busy": "2025-03-20T05:40:15.792054Z",
     "iopub.status.idle": "2025-03-20T05:40:16.150586Z",
     "shell.execute_reply": "2025-03-20T05:40:16.149348Z"
    },
    "papermill": {
     "duration": 0.37045,
     "end_time": "2025-03-20T05:40:16.153639",
     "exception": false,
     "start_time": "2025-03-20T05:40:15.783189",
     "status": "completed"
    },
    "tags": []
   },
   "outputs": [],
   "source": [
    "from metrics import KTLoss\n",
    "from model import MSKT\n",
    "from process import my_load_dataset\n",
    "from utils import paper_shuffle, is_new_paper"
   ]
  },
  {
   "cell_type": "code",
   "execution_count": null,
   "id": "2ef9e105",
   "metadata": {
    "execution": {
     "iopub.execute_input": "2025-03-20T05:40:16.170910Z",
     "iopub.status.busy": "2025-03-20T05:40:16.170698Z",
     "iopub.status.idle": "2025-03-20T05:40:16.201129Z",
     "shell.execute_reply": "2025-03-20T05:40:16.200145Z"
    },
    "papermill": {
     "duration": 0.043128,
     "end_time": "2025-03-20T05:40:16.205020",
     "exception": false,
     "start_time": "2025-03-20T05:40:16.161892",
     "status": "completed"
    },
    "tags": []
   },
   "outputs": [],
   "source": [
    "torch.cuda.empty_cache()\n",
    "\n",
    "device = torch.device(\"cuda:0\" if torch.cuda.is_available() else \"cpu\")\n",
    "# device = torch.device(\"cpu\")\n",
    "torch.autograd.set_detect_anomaly(True)"
   ]
  },
  {
   "cell_type": "code",
   "execution_count": null,
   "id": "7014dea2",
   "metadata": {
    "execution": {
     "iopub.execute_input": "2025-03-20T05:40:16.222244Z",
     "iopub.status.busy": "2025-03-20T05:40:16.222043Z",
     "iopub.status.idle": "2025-03-20T05:40:16.235744Z",
     "shell.execute_reply": "2025-03-20T05:40:16.234581Z"
    },
    "papermill": {
     "duration": 0.025699,
     "end_time": "2025-03-20T05:40:16.238675",
     "exception": false,
     "start_time": "2025-03-20T05:40:16.212976",
     "status": "completed"
    },
    "tags": []
   },
   "outputs": [],
   "source": [
    "parser = argparse.ArgumentParser()\n",
    "parser.add_argument('--no-cuda', action='store_false', default=False, help='Disables CUDA training.')\n",
    "parser.add_argument('--seed', type=int, default=42, help='Random seed.')\n",
    "parser.add_argument('--data-dir', type=str, default='data', help='Data dir for loading input data.')\n",
    "parser.add_argument('--data-file', type=str, default='new_college_physics.csv', help='Name of input data file.')\n",
    "parser.add_argument('--data-dict', type=str, default='college_physics.json', help='Name of exam data file.')\n",
    "\n",
    "parser.add_argument('--save-dir', type=str, default='logs',\n",
    "                    help='Where to save the trained model, leave empty to not save anything.')\n",
    "parser.add_argument('--load-dir', type=str, default='',\n",
    "                    help='Where to load the trained model if finetunning. ' + 'Leave empty to train from scratch')\n",
    "\n",
    "parser.add_argument('--model', type=str, default='CDKT', help='Model type to use.')\n",
    "parser.add_argument('--cognitive_num', type=int, default=6, help='cognitive levels.')\n",
    "parser.add_argument('--hidden_dim', type=int, default=256, help='Dimension of hidden knowledge states.')\n",
    "\n",
    "parser.add_argument('--dropout', type=float, default=0.1, help='Dropout rate (1 - keep probability).')\n",
    "parser.add_argument('--bias', type=bool, default=True, help='Whether to add bias for neural network layers.')\n",
    "parser.add_argument('--disc', type=float, default=5, help='The value of disc.')\n",
    "parser.add_argument('--k1', type=float, default=0.1, help='The weight of extra_loss.')\n",
    "parser.add_argument('--k2', type=float, default=0.005, help='The weight of extra_loss.')\n",
    "\n",
    "parser.add_argument('--epochs', type=int, default=100, help='Number of epochs to train.')\n",
    "parser.add_argument('--batch-size', type=int, default=32, help='Number of samples per batch.')\n",
    "parser.add_argument('--train-ratio', type=float, default=0.8, help='The ratio of training samples in a dataset.')\n",
    "parser.add_argument('--val-ratio', type=float, default=0.2, help='The ratio of validation samples in a dataset.')\n",
    "parser.add_argument('--shuffle', type=bool, default=True, help='Whether to shuffle the dataset or not.')\n",
    "parser.add_argument('--lr', type=float, default=0.001, help='Initial learning rate.')\n",
    "parser.add_argument('--lr-decay', type=int, default=200, help='After how epochs to decay LR by a factor of gamma.')\n",
    "parser.add_argument('--gamma', type=float, default=0.5, help='LR decay factor.')\n",
    "parser.add_argument('--test', type=bool, default=False, help='Whether to test for existed model.')\n",
    "parser.add_argument('--test-model-dir', type=str, default='logs/expCDKT', help='Existed model file dir.')\n",
    "\n",
    "args = parser.parse_known_args()[0]    #  这里与放在py文件中不同\n",
    "args.cuda = not args.no_cuda and torch.cuda.is_available()\n",
    "# args.cuda = False\n",
    "print(args)"
   ]
  },
  {
   "cell_type": "code",
   "execution_count": 6,
   "id": "ecaa1ebc",
   "metadata": {
    "execution": {
     "iopub.execute_input": "2025-03-20T05:40:16.256368Z",
     "iopub.status.busy": "2025-03-20T05:40:16.256101Z",
     "iopub.status.idle": "2025-03-20T05:40:16.263141Z",
     "shell.execute_reply": "2025-03-20T05:40:16.262201Z"
    },
    "papermill": {
     "duration": 0.01896,
     "end_time": "2025-03-20T05:40:16.265848",
     "exception": false,
     "start_time": "2025-03-20T05:40:16.246888",
     "status": "completed"
    },
    "tags": []
   },
   "outputs": [],
   "source": [
    "random.seed(args.seed)\n",
    "np.random.seed(args.seed)\n",
    "torch.manual_seed(args.seed)\n",
    "if args.cuda:\n",
    "    torch.cuda.manual_seed(args.seed)\n",
    "    torch.cuda.manual_seed_all(args.seed)\n",
    "    torch.backends.cudnn.benchmark = False\n",
    "    torch.backends.cudnn.deterministic = True"
   ]
  },
  {
   "cell_type": "code",
   "execution_count": 7,
   "id": "24b6bccc",
   "metadata": {
    "execution": {
     "iopub.execute_input": "2025-03-20T05:40:16.283301Z",
     "iopub.status.busy": "2025-03-20T05:40:16.282962Z",
     "iopub.status.idle": "2025-03-20T05:40:16.292473Z",
     "shell.execute_reply": "2025-03-20T05:40:16.291101Z"
    },
    "papermill": {
     "duration": 0.021322,
     "end_time": "2025-03-20T05:40:16.295541",
     "exception": false,
     "start_time": "2025-03-20T05:40:16.274219",
     "status": "completed"
    },
    "tags": []
   },
   "outputs": [],
   "source": [
    "# Save model and meta-data. Always saves in a new sub-folder.\n",
    "log = None\n",
    "save_dir = args.save_dir\n",
    "if args.save_dir:\n",
    "    exp_counter = 0\n",
    "    now = datetime.datetime.now()\n",
    "    timestamp = now.strftime('%Y-%m-%d %H-%M-%S')\n",
    "    model_file_name = args.model\n",
    "    save_dir = '{}/exp{}/'.format(args.save_dir, model_file_name + timestamp)\n",
    "    if not os.path.exists(save_dir):\n",
    "        os.makedirs(save_dir)\n",
    "    meta_file = os.path.join(save_dir, 'metadata.pkl')\n",
    "    model_file = os.path.join(save_dir, model_file_name + '.pt')\n",
    "    optimizer_file = os.path.join(save_dir, model_file_name + '-Optimizer.pt')\n",
    "    scheduler_file = os.path.join(save_dir, model_file_name + '-Scheduler.pt')\n",
    "    log_file = os.path.join(save_dir, 'log.txt')\n",
    "    log = open(log_file, 'w')\n",
    "    pickle.dump({'args': args}, open(meta_file, \"wb\"))\n",
    "else:\n",
    "    print(\"WARNING: No save_dir provided!\" + \"Testing (within this script) will throw an error.\")"
   ]
  },
  {
   "cell_type": "code",
   "execution_count": null,
   "id": "e45baaac",
   "metadata": {
    "execution": {
     "iopub.execute_input": "2025-03-20T05:40:16.312360Z",
     "iopub.status.busy": "2025-03-20T05:40:16.311904Z",
     "iopub.status.idle": "2025-03-20T05:40:18.498813Z",
     "shell.execute_reply": "2025-03-20T05:40:18.496856Z"
    },
    "papermill": {
     "duration": 2.199124,
     "end_time": "2025-03-20T05:40:18.502282",
     "exception": false,
     "start_time": "2025-03-20T05:40:16.303158",
     "status": "completed"
    },
    "tags": []
   },
   "outputs": [],
   "source": [
    "# load dataset\n",
    "student_num, concept_num, exercise_num, train_loader, valid_loader, test_loader = my_load_dataset(args.data_dir, args.data_file,\n",
    "                                                                                                  args.batch_size,\n",
    "                                                                                                  train_ratio=args.train_ratio,\n",
    "                                                                                                  val_ratio=args.val_ratio,\n",
    "                                                                                                  shuffle=args.shuffle)\n",
    "args.student_num = student_num\n",
    "args.concept_num = concept_num\n",
    "args.question_num = exercise_num"
   ]
  },
  {
   "cell_type": "code",
   "execution_count": null,
   "id": "644a1e71",
   "metadata": {
    "execution": {
     "iopub.execute_input": "2025-03-20T05:40:18.593694Z",
     "iopub.status.busy": "2025-03-20T05:40:18.593391Z",
     "iopub.status.idle": "2025-03-20T05:40:19.635939Z",
     "shell.execute_reply": "2025-03-20T05:40:19.634499Z"
    },
    "papermill": {
     "duration": 1.056294,
     "end_time": "2025-03-20T05:40:19.639077",
     "exception": false,
     "start_time": "2025-03-20T05:40:18.582783",
     "status": "completed"
    },
    "tags": []
   },
   "outputs": [],
   "source": [
    "# read the ideal score\n",
    "dict_path = os.path.join(args.data_dir, args.data_dict)\n",
    "with open(dict_path, 'r', encoding='utf-8') as json_file:\n",
    "    exam_origin_dic = json.load(json_file)\n",
    "\n",
    "exam_dic = dict()\n",
    "for key in exam_origin_dic.keys():\n",
    "    exam_dic[int(key)] = exam_origin_dic[key]\n",
    "\n",
    "print(len(exam_dic))\n",
    "temp = exam_dic[0]\n",
    "print(type(temp))\n",
    "print(len(temp), len(temp[0]))\n",
    "print(temp)"
   ]
  },
  {
   "cell_type": "code",
   "execution_count": null,
   "id": "bdc15545",
   "metadata": {
    "execution": {
     "iopub.execute_input": "2025-03-20T05:40:19.660629Z",
     "iopub.status.busy": "2025-03-20T05:40:19.660303Z",
     "iopub.status.idle": "2025-03-20T05:40:20.490984Z",
     "shell.execute_reply": "2025-03-20T05:40:20.489781Z"
    },
    "papermill": {
     "duration": 0.845079,
     "end_time": "2025-03-20T05:40:20.494475",
     "exception": false,
     "start_time": "2025-03-20T05:40:19.649396",
     "status": "completed"
    },
    "tags": []
   },
   "outputs": [],
   "source": [
    "# build models\n",
    "model = MSKT(args.concept_num, args.cognitive_num, args.question_num, args.hidden_dim, args.disc,\n",
    "             dropout=args.dropout, bias=args.bias)\n",
    "kt_loss = KTLoss(exam_dic, k1=args.k1, k2=args.k2)\n",
    "\n",
    "# build optimizer\n",
    "optimizer = optim.Adam(model.parameters(), lr=args.lr)\n",
    "scheduler = lr_scheduler.StepLR(optimizer, step_size=args.lr_decay, gamma=args.gamma)"
   ]
  },
  {
   "cell_type": "code",
   "execution_count": null,
   "id": "0029e293",
   "metadata": {
    "execution": {
     "iopub.execute_input": "2025-03-20T05:40:20.516859Z",
     "iopub.status.busy": "2025-03-20T05:40:20.516394Z",
     "iopub.status.idle": "2025-03-20T05:40:20.522419Z",
     "shell.execute_reply": "2025-03-20T05:40:20.521303Z"
    },
    "papermill": {
     "duration": 0.020378,
     "end_time": "2025-03-20T05:40:20.525528",
     "exception": false,
     "start_time": "2025-03-20T05:40:20.505150",
     "status": "completed"
    },
    "tags": []
   },
   "outputs": [],
   "source": [
    "for name, parameters in model.named_parameters():\n",
    "    print(name,':', parameters.size())"
   ]
  },
  {
   "cell_type": "code",
   "execution_count": null,
   "id": "c16e0838",
   "metadata": {
    "execution": {
     "iopub.execute_input": "2025-03-20T05:40:20.546652Z",
     "iopub.status.busy": "2025-03-20T05:40:20.546337Z",
     "iopub.status.idle": "2025-03-20T05:40:20.854747Z",
     "shell.execute_reply": "2025-03-20T05:40:20.853460Z"
    },
    "papermill": {
     "duration": 0.322996,
     "end_time": "2025-03-20T05:40:20.858176",
     "exception": false,
     "start_time": "2025-03-20T05:40:20.535180",
     "status": "completed"
    },
    "tags": []
   },
   "outputs": [],
   "source": [
    "# load model/optimizer/scheduler params\n",
    "if args.load_dir:\n",
    "    model_file = os.path.join(args.load_dir, model_file_name + '.pt')\n",
    "    optimizer_file = os.path.join(save_dir, model_file_name + '-Optimizer.pt')\n",
    "    scheduler_file = os.path.join(save_dir, model_file_name + '-Scheduler.pt')\n",
    "    model.load_state_dict(torch.load(model_file))\n",
    "    optimizer.load_state_dict(torch.load(optimizer_file))\n",
    "    scheduler.load_state_dict(torch.load(scheduler_file))\n",
    "    args.save_dir = False\n",
    "\n",
    "if args.cuda:\n",
    "    model = model.to(device)\n",
    "\n",
    "# record the result in txt\n",
    "record_time = datetime.datetime.now().strftime('%Y-%m-%d %H-%M-%S')\n",
    "f = open(\"result-%s.txt\" % record_time, \"w\")"
   ]
  },
  {
   "cell_type": "code",
   "execution_count": null,
   "id": "0be99688",
   "metadata": {
    "execution": {
     "iopub.execute_input": "2025-03-20T05:40:20.881611Z",
     "iopub.status.busy": "2025-03-20T05:40:20.881397Z",
     "iopub.status.idle": "2025-03-20T05:40:20.899515Z",
     "shell.execute_reply": "2025-03-20T05:40:20.898260Z"
    },
    "papermill": {
     "duration": 0.032666,
     "end_time": "2025-03-20T05:40:20.902483",
     "exception": false,
     "start_time": "2025-03-20T05:40:20.869817",
     "status": "completed"
    },
    "tags": []
   },
   "outputs": [],
   "source": [
    "def train(epoch, best_val_loss, f):\n",
    "    t = time.time()\n",
    "    loss_train = []\n",
    "    kt_train = []\n",
    "    auc_train = []\n",
    "    acc_train = []\n",
    "    model.train()\n",
    "\n",
    "    for batch_idx, (students, questions, features, difficulties, papers, answers) in enumerate(train_loader):\n",
    "        \n",
    "        time_start = time.time()\n",
    "        \n",
    "        if args.cuda:\n",
    "            students = students.to(device)\n",
    "            questions = questions.to(device)\n",
    "            features = features.to(device)\n",
    "            difficulties = difficulties.to(device)\n",
    "            papers = papers.to(device)\n",
    "            answers = answers.to(device)\n",
    "\n",
    "        # encode the exam information\n",
    "        papers, need_score = is_new_paper(papers)\n",
    "        # shuffle the origin sequence\n",
    "        new_questions, new_features, new_difficulties, new_papers, new_answers = paper_shuffle(questions, features, difficulties, papers, answers)\n",
    "        ht, yt, pred_res = model(features, questions, difficulties, papers, answers)\n",
    "        ht_trans, _, _ = model(new_features, new_questions, new_difficulties, new_papers, new_answers)\n",
    "\n",
    "        # answers [batch_size, seq_len]\n",
    "        loss_kt, auc, acc = kt_loss(students, pred_res, answers, ht, ht_trans, yt, need_score)\n",
    "        loss = loss_kt\n",
    "        kt_train.append(float(loss_kt.cpu().detach().numpy()))\n",
    "        if auc != -1 and acc != -1:\n",
    "            auc_train.append(auc)\n",
    "            acc_train.append(acc)\n",
    "\n",
    "        #loss = loss_kt\n",
    "        print('batch idx: ', batch_idx, 'loss kt: ', loss_kt.item(), 'auc: ', auc, 'acc: ', acc, end=' ')\n",
    "        \n",
    "        loss_train.append(float(loss.cpu().detach().numpy()))\n",
    "        \n",
    "        # time.sleep(60)\n",
    "\n",
    "        loss.backward()\n",
    "        optimizer.step()\n",
    "        scheduler.step()\n",
    "        optimizer.zero_grad()\n",
    "        del loss\n",
    "        print('cost time: ', str(time.time() - time_start))\n",
    "\n",
    "    loss_val = []\n",
    "    kt_val = []\n",
    "    auc_val = []\n",
    "    acc_val = []\n",
    "\n",
    "    model.eval()\n",
    "    with torch.no_grad():\n",
    "        for batch_idx, (students, questions, features, difficulties, papers, answers) in enumerate(valid_loader):\n",
    "            \n",
    "            if args.cuda:\n",
    "                students = students.to(device)\n",
    "                questions = questions.to(device)\n",
    "                features = features.to(device)\n",
    "                difficulties = difficulties.to(device)\n",
    "                papers = papers.to(device)\n",
    "                answers = answers.to(device)\n",
    "\n",
    "            # encode the exam information\n",
    "            papers, need_score = is_new_paper(papers)\n",
    "            # shuffle the origin sequence\n",
    "            new_questions, new_features, new_difficulties, new_papers, new_answers = paper_shuffle(questions, features, difficulties, papers, answers)\n",
    "            ht, yt, pred_res = model(features, questions, difficulties, papers, answers)\n",
    "            ht_trans, _, _ = model(new_features, new_questions, new_difficulties, new_papers, new_answers)\n",
    "\n",
    "            # answers [batch_size, seq_len]\n",
    "            loss_kt, auc, acc = kt_loss(students, pred_res, answers, ht, ht_trans, yt, need_score)\n",
    "            loss_kt = float(loss_kt.cpu().detach().numpy())\n",
    "            kt_val.append(loss_kt)\n",
    "            if auc != -1 and acc != -1:\n",
    "                auc_val.append(auc)\n",
    "                acc_val.append(acc)\n",
    "\n",
    "            loss = loss_kt\n",
    "            loss_val.append(loss)\n",
    "            del loss\n",
    "    \n",
    "    f.write('Epoch: {:04d} '.format(epoch) +\n",
    "              'loss_train: {:.10f} '.format(np.mean(loss_train)) +\n",
    "              'auc_train: {:.10f} '.format(np.mean(auc_train)) +\n",
    "              'acc_train: {:.10f} '.format(np.mean(acc_train)) +\n",
    "              'loss_val: {:.10f} '.format(np.mean(loss_val)) +\n",
    "              'auc_val: {:.10f} '.format(np.mean(auc_val)) +\n",
    "              'acc_val: {:.10f} '.format(np.mean(acc_val)) +\n",
    "              'time: {:.4f}s'.format(time.time() - t) + '\\n')\n",
    "    print('Epoch: {:04d}'.format(epoch),\n",
    "          'loss_train: {:.10f}'.format(np.mean(loss_train)),\n",
    "          'auc_train: {:.10f}'.format(np.mean(auc_train)),\n",
    "          'acc_train: {:.10f}'.format(np.mean(acc_train)),\n",
    "          'loss_val: {:.10f}'.format(np.mean(loss_val)),\n",
    "          'auc_val: {:.10f}'.format(np.mean(auc_val)),\n",
    "          'acc_val: {:.10f}'.format(np.mean(acc_val)),\n",
    "          'time: {:.4f}s'.format(time.time() - t))\n",
    "    \n",
    "    if args.save_dir and np.mean(loss_val) < best_val_loss:\n",
    "        print('Best model so far, saving...')\n",
    "        torch.save(model.state_dict(), model_file)\n",
    "        torch.save(optimizer.state_dict(), optimizer_file)\n",
    "        torch.save(scheduler.state_dict(), scheduler_file)\n",
    "\n",
    "        print('Epoch: {:04d}'.format(epoch),\n",
    "              'loss_train: {:.10f}'.format(np.mean(loss_train)),\n",
    "              'auc_train: {:.10f}'.format(np.mean(auc_train)),\n",
    "              'acc_train: {:.10f}'.format(np.mean(acc_train)),\n",
    "              'loss_val: {:.10f}'.format(np.mean(loss_val)),\n",
    "              'auc_val: {:.10f}'.format(np.mean(auc_val)),\n",
    "              'acc_val: {:.10f}'.format(np.mean(acc_val)),\n",
    "              'time: {:.4f}s'.format(time.time() - t), file=log)\n",
    "\n",
    "        log.flush()\n",
    "    res = np.mean(loss_val)\n",
    "    del loss_train\n",
    "    del auc_train\n",
    "    del acc_train\n",
    "    del loss_val\n",
    "    del auc_val\n",
    "    del acc_val\n",
    "    gc.collect()\n",
    "    if args.cuda:\n",
    "        torch.cuda.empty_cache()\n",
    "    return res"
   ]
  },
  {
   "cell_type": "code",
   "execution_count": null,
   "id": "94102cc4",
   "metadata": {
    "execution": {
     "iopub.execute_input": "2025-03-20T05:40:20.923967Z",
     "iopub.status.busy": "2025-03-20T05:40:20.923765Z",
     "iopub.status.idle": "2025-03-20T05:40:20.933281Z",
     "shell.execute_reply": "2025-03-20T05:40:20.932372Z"
    },
    "papermill": {
     "duration": 0.024358,
     "end_time": "2025-03-20T05:40:20.936495",
     "exception": false,
     "start_time": "2025-03-20T05:40:20.912137",
     "status": "completed"
    },
    "tags": []
   },
   "outputs": [],
   "source": [
    "def test():\n",
    "    loss_test = []\n",
    "    kt_test = []\n",
    "    auc_test = []\n",
    "    acc_test = []\n",
    "    \n",
    "    model.eval()\n",
    "    model.load_state_dict(torch.load(model_file))\n",
    "    \n",
    "    with torch.no_grad():\n",
    "        for batch_idx, (students, questions, features, difficulties, papers, answers) in enumerate(test_loader):\n",
    "            \n",
    "            if args.cuda:\n",
    "                students = students.to(device)\n",
    "                questions = questions.to(device)\n",
    "                features = features.to(device)\n",
    "                difficulties = difficulties.to(device)\n",
    "                papers = papers.to(device)\n",
    "                answers = answers.to(device)\n",
    "\n",
    "            # encode the exam information\n",
    "            papers, need_score = is_new_paper(papers)\n",
    "            # shuffle the origin sequence\n",
    "            new_questions, new_features, new_difficulties, new_papers, new_answers = paper_shuffle(questions, features, difficulties, papers, answers)\n",
    "            ht, yt, pred_res = model(features, questions, difficulties, papers, answers)\n",
    "            ht_trans, _, _ = model(new_features, new_questions, new_difficulties, new_papers, new_answers)\n",
    "\n",
    "            # answers [batch_size, seq_len]\n",
    "            loss_kt, auc, acc = kt_loss(students, pred_res, answers, ht, ht_trans, yt, need_score)\n",
    "            loss_kt = float(loss_kt.cpu().detach().numpy())\n",
    "            if auc != -1 and acc != -1:\n",
    "                auc_test.append(auc)\n",
    "                acc_test.append(acc)\n",
    "            kt_test.append(loss_kt)\n",
    "            loss = loss_kt\n",
    "            loss_test.append(loss)\n",
    "            del loss\n",
    "    print('--------------------------------')\n",
    "    print('--------Testing-----------------')\n",
    "    print('--------------------------------')\n",
    "    print('loss_test: {:.10f}'.format(np.mean(loss_test)),\n",
    "          'auc_test: {:.10f}'.format(np.mean(auc_test)),\n",
    "          'acc_test: {:.10f}'.format(np.mean(acc_test)))\n",
    "    if args.save_dir:\n",
    "        print('--------------------------------', file=log)\n",
    "        print('--------Testing-----------------', file=log)\n",
    "        print('--------------------------------', file=log)\n",
    "        print('loss_test: {:.10f}'.format(np.mean(loss_test)),\n",
    "              'auc_test: {:.10f}'.format(np.mean(auc_test)),\n",
    "              'acc_test: {:.10f}'.format(np.mean(acc_test)), file=log)\n",
    "        log.flush()\n",
    "    del loss_test\n",
    "    del auc_test\n",
    "    del acc_test\n",
    "    gc.collect()\n",
    "    if args.cuda:\n",
    "        torch.cuda.empty_cache()"
   ]
  },
  {
   "cell_type": "code",
   "execution_count": null,
   "id": "d2817de3",
   "metadata": {
    "execution": {
     "iopub.execute_input": "2025-03-20T05:40:20.957526Z",
     "iopub.status.busy": "2025-03-20T05:40:20.957207Z"
    },
    "papermill": {
     "duration": 32299.491233,
     "end_time": "2025-03-20T14:38:40.437406",
     "exception": false,
     "start_time": "2025-03-20T05:40:20.946173",
     "status": "completed"
    },
    "tags": []
   },
   "outputs": [],
   "source": [
    "if args.test is False:\n",
    "    # Train model\n",
    "    print('start training!')\n",
    "    t_total = time.time()\n",
    "    best_val_loss = np.inf\n",
    "    best_epoch = 0\n",
    "    for epoch in range(args.epochs):\n",
    "        val_loss = train(epoch, best_val_loss, f)\n",
    "        if val_loss < best_val_loss:\n",
    "            best_val_loss = val_loss\n",
    "            best_epoch = epoch\n",
    "    print(\"Optimization Finished!\")\n",
    "    print(\"Best Epoch: {:04d}\".format(best_epoch))\n",
    "    if args.save_dir:\n",
    "        print(\"Best Epoch: {:04d}\".format(best_epoch), file=log)\n",
    "        log.flush()"
   ]
  },
  {
   "cell_type": "code",
   "execution_count": null,
   "id": "e03b0607",
   "metadata": {
    "execution": {
     "iopub.execute_input": "2025-03-20T04:54:05.455618Z",
     "iopub.status.busy": "2025-03-20T04:54:05.455304Z",
     "iopub.status.idle": "2025-03-20T04:55:00.696136Z",
     "shell.execute_reply": "2025-03-20T04:55:00.695275Z"
    },
    "papermill": {
     "duration": null,
     "end_time": null,
     "exception": null,
     "start_time": null,
     "status": "completed"
    },
    "tags": []
   },
   "outputs": [],
   "source": [
    "test()\n",
    "if log is not None:\n",
    "    print(save_dir)\n",
    "    log.close()\n",
    "\n",
    "f.close()"
   ]
  }
 ],
 "metadata": {
  "kernelspec": {
   "display_name": "Python 3",
   "language": "python",
   "name": "python3"
  },
  "language_info": {
   "codemirror_mode": {
    "name": "ipython",
    "version": 3
   },
   "file_extension": ".py",
   "mimetype": "text/x-python",
   "name": "python",
   "nbconvert_exporter": "python",
   "pygments_lexer": "ipython3",
   "version": "3.10.12"
  },
  "papermill": {
   "default_parameters": {},
   "duration": 32307.898521,
   "end_time": "2025-03-20T14:38:40.861804",
   "environment_variables": {},
   "exception": null,
   "input_path": "train adam_gaojiaoshe_extra-0.ipynb",
   "output_path": "train adam_gaojiaoshe_extra-0.ipynb",
   "parameters": {},
   "start_time": "2025-03-20T05:40:12.963283",
   "version": "2.6.0"
  }
 },
 "nbformat": 4,
 "nbformat_minor": 5
}
